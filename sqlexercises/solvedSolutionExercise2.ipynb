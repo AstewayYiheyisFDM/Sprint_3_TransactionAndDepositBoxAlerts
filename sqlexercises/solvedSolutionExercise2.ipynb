{
    "metadata": {
        "kernelspec": {
            "name": "SQL",
            "display_name": "SQL",
            "language": "sql"
        },
        "language_info": {
            "name": "sql",
            "version": ""
        }
    },
    "nbformat_minor": 2,
    "nbformat": 4,
    "cells": [
        {
            "cell_type": "code",
            "source": [
                "USE jchagger;"
            ],
            "metadata": {
                "azdata_cell_guid": "441c9ce2-da04-4432-a77c-542e0d0ce8e2",
                "language": "sql"
            },
            "outputs": [
                {
                    "output_type": "display_data",
                    "data": {
                        "text/html": "Commands completed successfully"
                    },
                    "metadata": {}
                },
                {
                    "output_type": "display_data",
                    "data": {
                        "text/html": "Total execution time: 00:00:00.302"
                    },
                    "metadata": {}
                }
            ],
            "execution_count": 1
        },
        {
            "cell_type": "code",
            "source": [
                "/*Look through Lesson 05b Where and Order By.sql and run the code examples there, then\r\n",
                "   practice restricting and sorting data with the excercises below:\r\n",
                "*/\r\n",
                "\r\n",
                "\r\n",
                "-- 1) Show the last name and salary of those employees who earn  more than $12000.\r\n",
                "SELECT last_name, salary \r\n",
                " FROM employees \r\n",
                "  WHERE salary > 12000;"
            ],
            "metadata": {
                "language": "sql",
                "azdata_cell_guid": "12a9cd6b-aa1f-41f6-adbc-7a256153f560"
            },
            "outputs": [
                {
                    "output_type": "display_data",
                    "data": {
                        "text/html": "(6 row(s) affected)"
                    },
                    "metadata": {}
                },
                {
                    "output_type": "display_data",
                    "data": {
                        "text/html": "Total execution time: 00:00:01.322"
                    },
                    "metadata": {}
                },
                {
                    "output_type": "execute_result",
                    "execution_count": 2,
                    "data": {
                        "application/vnd.dataresource+json": {
                            "schema": {
                                "fields": [
                                    {
                                        "name": "last_name"
                                    },
                                    {
                                        "name": "salary"
                                    }
                                ]
                            },
                            "data": [
                                {
                                    "last_name": "King",
                                    "salary": "24000.00"
                                },
                                {
                                    "last_name": "Kochhar",
                                    "salary": "17000.00"
                                },
                                {
                                    "last_name": "De Haan",
                                    "salary": "17000.00"
                                },
                                {
                                    "last_name": "Russell",
                                    "salary": "14000.00"
                                },
                                {
                                    "last_name": "Partners",
                                    "salary": "13500.00"
                                },
                                {
                                    "last_name": "Hartstein",
                                    "salary": "13000.00"
                                }
                            ]
                        },
                        "text/html": "<table><tr><th>last_name</th><th>salary</th></tr><tr><td>King</td><td>24000.00</td></tr><tr><td>Kochhar</td><td>17000.00</td></tr><tr><td>De Haan</td><td>17000.00</td></tr><tr><td>Russell</td><td>14000.00</td></tr><tr><td>Partners</td><td>13500.00</td></tr><tr><td>Hartstein</td><td>13000.00</td></tr></table>"
                    },
                    "metadata": {}
                }
            ],
            "execution_count": 2
        },
        {
            "cell_type": "code",
            "source": [
                "-- 2) Display the last name and department number of employee 176.\r\n",
                "SELECT last_name, department_id \r\n",
                "FROM employees \r\n",
                "WHERE employee_id = 176;"
            ],
            "metadata": {
                "language": "sql",
                "azdata_cell_guid": "13154fbd-f985-455e-bb96-c93faea8526a"
            },
            "outputs": [
                {
                    "output_type": "display_data",
                    "data": {
                        "text/html": "(1 row(s) affected)"
                    },
                    "metadata": {}
                },
                {
                    "output_type": "display_data",
                    "data": {
                        "text/html": "Total execution time: 00:00:01.358"
                    },
                    "metadata": {}
                },
                {
                    "output_type": "execute_result",
                    "execution_count": 4,
                    "data": {
                        "application/vnd.dataresource+json": {
                            "schema": {
                                "fields": [
                                    {
                                        "name": "last_name"
                                    },
                                    {
                                        "name": "department_id"
                                    }
                                ]
                            },
                            "data": [
                                {
                                    "last_name": "Taylor",
                                    "department_id": "80"
                                }
                            ]
                        },
                        "text/html": "<table><tr><th>last_name</th><th>department_id</th></tr><tr><td>Taylor</td><td>80</td></tr></table>"
                    },
                    "metadata": {}
                }
            ],
            "execution_count": 4
        },
        {
            "cell_type": "code",
            "source": [
                "/* 3)Display the last name and salary of those employees whose salary is not in \r\n",
                "    the range of $5,000 to $12,000. */\r\n",
                "    SELECT last_name, salary \r\n",
                "    FROM employees\r\n",
                "    WHERE salary NOT BETWEEN 5000 AND 12000;"
            ],
            "metadata": {
                "language": "sql",
                "azdata_cell_guid": "12dfcba1-2819-4f2f-a8db-15c84a6a551d"
            },
            "outputs": [
                {
                    "output_type": "display_data",
                    "data": {
                        "text/html": "(55 row(s) affected)"
                    },
                    "metadata": {}
                },
                {
                    "output_type": "display_data",
                    "data": {
                        "text/html": "Total execution time: 00:00:01.415"
                    },
                    "metadata": {}
                },
                {
                    "output_type": "execute_result",
                    "execution_count": 6,
                    "data": {
                        "application/vnd.dataresource+json": {
                            "schema": {
                                "fields": [
                                    {
                                        "name": "last_name"
                                    },
                                    {
                                        "name": "salary"
                                    }
                                ]
                            },
                            "data": [
                                {
                                    "last_name": "King",
                                    "salary": "24000.00"
                                },
                                {
                                    "last_name": "Kochhar",
                                    "salary": "17000.00"
                                },
                                {
                                    "last_name": "De Haan",
                                    "salary": "17000.00"
                                },
                                {
                                    "last_name": "Austin",
                                    "salary": "4800.00"
                                },
                                {
                                    "last_name": "Pataballa",
                                    "salary": "4800.00"
                                },
                                {
                                    "last_name": "Lorentz",
                                    "salary": "4200.00"
                                },
                                {
                                    "last_name": "Khoo",
                                    "salary": "3100.00"
                                },
                                {
                                    "last_name": "Baida",
                                    "salary": "2900.00"
                                },
                                {
                                    "last_name": "Tobias",
                                    "salary": "2800.00"
                                },
                                {
                                    "last_name": "Himuro",
                                    "salary": "2600.00"
                                },
                                {
                                    "last_name": "Colmenares",
                                    "salary": "2500.00"
                                },
                                {
                                    "last_name": "Nayer",
                                    "salary": "3200.00"
                                },
                                {
                                    "last_name": "Mikkilineni",
                                    "salary": "2700.00"
                                },
                                {
                                    "last_name": "Landry",
                                    "salary": "2400.00"
                                },
                                {
                                    "last_name": "Markle",
                                    "salary": "2200.00"
                                },
                                {
                                    "last_name": "Bissot",
                                    "salary": "3300.00"
                                },
                                {
                                    "last_name": "Atkinson",
                                    "salary": "2800.00"
                                },
                                {
                                    "last_name": "Marlow",
                                    "salary": "2500.00"
                                },
                                {
                                    "last_name": "Olson",
                                    "salary": "2100.00"
                                },
                                {
                                    "last_name": "Mallin",
                                    "salary": "3300.00"
                                },
                                {
                                    "last_name": "Rogers",
                                    "salary": "2900.00"
                                },
                                {
                                    "last_name": "Gee",
                                    "salary": "2400.00"
                                },
                                {
                                    "last_name": "Philtanker",
                                    "salary": "2200.00"
                                },
                                {
                                    "last_name": "Ladwig",
                                    "salary": "3600.00"
                                },
                                {
                                    "last_name": "Stiles",
                                    "salary": "3200.00"
                                },
                                {
                                    "last_name": "Seo",
                                    "salary": "2700.00"
                                },
                                {
                                    "last_name": "Patel",
                                    "salary": "2500.00"
                                },
                                {
                                    "last_name": "Rajs",
                                    "salary": "3500.00"
                                },
                                {
                                    "last_name": "Davies",
                                    "salary": "3100.00"
                                },
                                {
                                    "last_name": "Matos",
                                    "salary": "2600.00"
                                },
                                {
                                    "last_name": "Vargas",
                                    "salary": "2500.00"
                                },
                                {
                                    "last_name": "Russell",
                                    "salary": "14000.00"
                                },
                                {
                                    "last_name": "Partners",
                                    "salary": "13500.00"
                                },
                                {
                                    "last_name": "Taylor",
                                    "salary": "3200.00"
                                },
                                {
                                    "last_name": "Fleaur",
                                    "salary": "3100.00"
                                },
                                {
                                    "last_name": "Sullivan",
                                    "salary": "2500.00"
                                },
                                {
                                    "last_name": "Geoni",
                                    "salary": "2800.00"
                                },
                                {
                                    "last_name": "Sarchand",
                                    "salary": "4200.00"
                                },
                                {
                                    "last_name": "Bull",
                                    "salary": "4100.00"
                                },
                                {
                                    "last_name": "Dellinger",
                                    "salary": "3400.00"
                                },
                                {
                                    "last_name": "Cabrio",
                                    "salary": "3000.00"
                                },
                                {
                                    "last_name": "Chung",
                                    "salary": "3800.00"
                                },
                                {
                                    "last_name": "Dilly",
                                    "salary": "3600.00"
                                },
                                {
                                    "last_name": "Gates",
                                    "salary": "2900.00"
                                },
                                {
                                    "last_name": "Perkins",
                                    "salary": "2500.00"
                                },
                                {
                                    "last_name": "Bell",
                                    "salary": "4000.00"
                                },
                                {
                                    "last_name": "Everett",
                                    "salary": "3900.00"
                                },
                                {
                                    "last_name": "McCain",
                                    "salary": "3200.00"
                                },
                                {
                                    "last_name": "Jones",
                                    "salary": "2800.00"
                                },
                                {
                                    "last_name": "Walsh",
                                    "salary": "3100.00"
                                },
                                {
                                    "last_name": "Feeney",
                                    "salary": "3000.00"
                                },
                                {
                                    "last_name": "O'Connell",
                                    "salary": "2600.00"
                                },
                                {
                                    "last_name": "Grant",
                                    "salary": "2600.00"
                                },
                                {
                                    "last_name": "Whalen",
                                    "salary": "4400.00"
                                },
                                {
                                    "last_name": "Hartstein",
                                    "salary": "13000.00"
                                }
                            ]
                        },
                        "text/html": "<table><tr><th>last_name</th><th>salary</th></tr><tr><td>King</td><td>24000.00</td></tr><tr><td>Kochhar</td><td>17000.00</td></tr><tr><td>De Haan</td><td>17000.00</td></tr><tr><td>Austin</td><td>4800.00</td></tr><tr><td>Pataballa</td><td>4800.00</td></tr><tr><td>Lorentz</td><td>4200.00</td></tr><tr><td>Khoo</td><td>3100.00</td></tr><tr><td>Baida</td><td>2900.00</td></tr><tr><td>Tobias</td><td>2800.00</td></tr><tr><td>Himuro</td><td>2600.00</td></tr><tr><td>Colmenares</td><td>2500.00</td></tr><tr><td>Nayer</td><td>3200.00</td></tr><tr><td>Mikkilineni</td><td>2700.00</td></tr><tr><td>Landry</td><td>2400.00</td></tr><tr><td>Markle</td><td>2200.00</td></tr><tr><td>Bissot</td><td>3300.00</td></tr><tr><td>Atkinson</td><td>2800.00</td></tr><tr><td>Marlow</td><td>2500.00</td></tr><tr><td>Olson</td><td>2100.00</td></tr><tr><td>Mallin</td><td>3300.00</td></tr><tr><td>Rogers</td><td>2900.00</td></tr><tr><td>Gee</td><td>2400.00</td></tr><tr><td>Philtanker</td><td>2200.00</td></tr><tr><td>Ladwig</td><td>3600.00</td></tr><tr><td>Stiles</td><td>3200.00</td></tr><tr><td>Seo</td><td>2700.00</td></tr><tr><td>Patel</td><td>2500.00</td></tr><tr><td>Rajs</td><td>3500.00</td></tr><tr><td>Davies</td><td>3100.00</td></tr><tr><td>Matos</td><td>2600.00</td></tr><tr><td>Vargas</td><td>2500.00</td></tr><tr><td>Russell</td><td>14000.00</td></tr><tr><td>Partners</td><td>13500.00</td></tr><tr><td>Taylor</td><td>3200.00</td></tr><tr><td>Fleaur</td><td>3100.00</td></tr><tr><td>Sullivan</td><td>2500.00</td></tr><tr><td>Geoni</td><td>2800.00</td></tr><tr><td>Sarchand</td><td>4200.00</td></tr><tr><td>Bull</td><td>4100.00</td></tr><tr><td>Dellinger</td><td>3400.00</td></tr><tr><td>Cabrio</td><td>3000.00</td></tr><tr><td>Chung</td><td>3800.00</td></tr><tr><td>Dilly</td><td>3600.00</td></tr><tr><td>Gates</td><td>2900.00</td></tr><tr><td>Perkins</td><td>2500.00</td></tr><tr><td>Bell</td><td>4000.00</td></tr><tr><td>Everett</td><td>3900.00</td></tr><tr><td>McCain</td><td>3200.00</td></tr><tr><td>Jones</td><td>2800.00</td></tr><tr><td>Walsh</td><td>3100.00</td></tr><tr><td>Feeney</td><td>3000.00</td></tr><tr><td>O&#39;Connell</td><td>2600.00</td></tr><tr><td>Grant</td><td>2600.00</td></tr><tr><td>Whalen</td><td>4400.00</td></tr><tr><td>Hartstein</td><td>13000.00</td></tr></table>"
                    },
                    "metadata": {}
                }
            ],
            "execution_count": 6
        },
        {
            "cell_type": "code",
            "source": [
                "\r\n",
                "/* 4) Show the first and last name, salary, and hire date for employees with \r\n",
                "      the last names Matos or Taylor. */\r\n",
                "      -- SELECT first_name, last_name, salary, hire_date \r\n",
                "      -- FROM employees\r\n",
                "      -- WHERE last_name = \"Matos\" OR last_name = \"Taylor\";\r\n",
                "\r\n",
                " SELECT first_name, last_name, salary, hire_date \r\n",
                "      FROM employees\r\n",
                "      WHERE last_name LIKE \"M%\" OR last_name LIKE \"T%\";\r\n",
                "      -- WHERE last_name IN (\"M%\", \"T%\");\r\n",
                "\r\n",
                ""
            ],
            "metadata": {
                "language": "sql",
                "azdata_cell_guid": "c30450b1-a878-4388-a2e4-3e341c14b10e",
                "tags": []
            },
            "outputs": [
                {
                    "output_type": "display_data",
                    "data": {
                        "text/html": "(15 row(s) affected)"
                    },
                    "metadata": {}
                },
                {
                    "output_type": "display_data",
                    "data": {
                        "text/html": "Total execution time: 00:00:01.305"
                    },
                    "metadata": {}
                },
                {
                    "output_type": "execute_result",
                    "execution_count": 10,
                    "data": {
                        "application/vnd.dataresource+json": {
                            "schema": {
                                "fields": [
                                    {
                                        "name": "first_name"
                                    },
                                    {
                                        "name": "last_name"
                                    },
                                    {
                                        "name": "salary"
                                    },
                                    {
                                        "name": "hire_date"
                                    }
                                ]
                            },
                            "data": [
                                {
                                    "first_name": "Sigal",
                                    "last_name": "Tobias",
                                    "salary": "2800.00",
                                    "hire_date": "2007-07-24"
                                },
                                {
                                    "first_name": "Kevin",
                                    "last_name": "Mourgos",
                                    "salary": "5800.00",
                                    "hire_date": "2019-11-16"
                                },
                                {
                                    "first_name": "Irene",
                                    "last_name": "Mikkilineni",
                                    "salary": "2700.00",
                                    "hire_date": "2008-09-28"
                                },
                                {
                                    "first_name": "Steven",
                                    "last_name": "Markle",
                                    "salary": "2200.00",
                                    "hire_date": "2000-03-08"
                                },
                                {
                                    "first_name": "James",
                                    "last_name": "Marlow",
                                    "salary": "2500.00",
                                    "hire_date": "2015-02-16"
                                },
                                {
                                    "first_name": "Jason",
                                    "last_name": "Mallin",
                                    "salary": "3300.00",
                                    "hire_date": "2006-06-14"
                                },
                                {
                                    "first_name": "Randall",
                                    "last_name": "Matos",
                                    "salary": "2600.00",
                                    "hire_date": "2008-03-15"
                                },
                                {
                                    "first_name": "Peter",
                                    "last_name": "Tucker",
                                    "salary": "10000.00",
                                    "hire_date": "2007-01-30"
                                },
                                {
                                    "first_name": "Oliver",
                                    "last_name": "Tuvault",
                                    "salary": "7000.00",
                                    "hire_date": "2009-11-23"
                                },
                                {
                                    "first_name": "Allan",
                                    "last_name": "McEwen",
                                    "salary": "9000.00",
                                    "hire_date": "2013-08-01"
                                },
                                {
                                    "first_name": "Mattea",
                                    "last_name": "Marvins",
                                    "salary": "7200.00",
                                    "hire_date": "2000-01-24"
                                },
                                {
                                    "first_name": "Jonathon",
                                    "last_name": "Taylor",
                                    "salary": "8600.00",
                                    "hire_date": "2008-03-24"
                                },
                                {
                                    "first_name": "Winston",
                                    "last_name": "Taylor",
                                    "salary": "3200.00",
                                    "hire_date": "1995-01-24"
                                },
                                {
                                    "first_name": "Samuel",
                                    "last_name": "McCain",
                                    "salary": "3200.00",
                                    "hire_date": "2008-07-01"
                                },
                                {
                                    "first_name": "Susan",
                                    "last_name": "Mavris",
                                    "salary": "6500.00",
                                    "hire_date": "2011-06-07"
                                }
                            ]
                        },
                        "text/html": "<table><tr><th>first_name</th><th>last_name</th><th>salary</th><th>hire_date</th></tr><tr><td>Sigal</td><td>Tobias</td><td>2800.00</td><td>2007-07-24</td></tr><tr><td>Kevin</td><td>Mourgos</td><td>5800.00</td><td>2019-11-16</td></tr><tr><td>Irene</td><td>Mikkilineni</td><td>2700.00</td><td>2008-09-28</td></tr><tr><td>Steven</td><td>Markle</td><td>2200.00</td><td>2000-03-08</td></tr><tr><td>James</td><td>Marlow</td><td>2500.00</td><td>2015-02-16</td></tr><tr><td>Jason</td><td>Mallin</td><td>3300.00</td><td>2006-06-14</td></tr><tr><td>Randall</td><td>Matos</td><td>2600.00</td><td>2008-03-15</td></tr><tr><td>Peter</td><td>Tucker</td><td>10000.00</td><td>2007-01-30</td></tr><tr><td>Oliver</td><td>Tuvault</td><td>7000.00</td><td>2009-11-23</td></tr><tr><td>Allan</td><td>McEwen</td><td>9000.00</td><td>2013-08-01</td></tr><tr><td>Mattea</td><td>Marvins</td><td>7200.00</td><td>2000-01-24</td></tr><tr><td>Jonathon</td><td>Taylor</td><td>8600.00</td><td>2008-03-24</td></tr><tr><td>Winston</td><td>Taylor</td><td>3200.00</td><td>1995-01-24</td></tr><tr><td>Samuel</td><td>McCain</td><td>3200.00</td><td>2008-07-01</td></tr><tr><td>Susan</td><td>Mavris</td><td>6500.00</td><td>2011-06-07</td></tr></table>"
                    },
                    "metadata": {}
                }
            ],
            "execution_count": 10
        },
        {
            "cell_type": "code",
            "source": [
                "\t\t\r\n",
                "/* 5) Display the last name and department id of all employees in departments 20\r\n",
                "      and 50. Sort the result by last name. */ \r\n",
                "      SELECT last_name, department_id \r\n",
                "      FROM employees\r\n",
                "      WHERE department_id = 20 OR department_id = 50\r\n",
                "--       ORDER BY last_name DESC;\r\n",
                "        ORDER BY 1 DESC;"
            ],
            "metadata": {
                "language": "sql",
                "azdata_cell_guid": "a470a95c-df13-495f-9172-92c2547c881f"
            },
            "outputs": [
                {
                    "output_type": "display_data",
                    "data": {
                        "text/html": "(47 row(s) affected)"
                    },
                    "metadata": {}
                },
                {
                    "output_type": "display_data",
                    "data": {
                        "text/html": "Total execution time: 00:00:01.358"
                    },
                    "metadata": {}
                },
                {
                    "output_type": "execute_result",
                    "execution_count": 13,
                    "data": {
                        "application/vnd.dataresource+json": {
                            "schema": {
                                "fields": [
                                    {
                                        "name": "last_name"
                                    },
                                    {
                                        "name": "department_id"
                                    }
                                ]
                            },
                            "data": [
                                {
                                    "last_name": "Weiss",
                                    "department_id": "50"
                                },
                                {
                                    "last_name": "Walsh",
                                    "department_id": "50"
                                },
                                {
                                    "last_name": "Vollman",
                                    "department_id": "50"
                                },
                                {
                                    "last_name": "Vargas",
                                    "department_id": "50"
                                },
                                {
                                    "last_name": "Taylor",
                                    "department_id": "50"
                                },
                                {
                                    "last_name": "Sullivan",
                                    "department_id": "50"
                                },
                                {
                                    "last_name": "Stiles",
                                    "department_id": "50"
                                },
                                {
                                    "last_name": "Seo",
                                    "department_id": "50"
                                },
                                {
                                    "last_name": "Sarchand",
                                    "department_id": "50"
                                },
                                {
                                    "last_name": "Rogers",
                                    "department_id": "50"
                                },
                                {
                                    "last_name": "Rajs",
                                    "department_id": "50"
                                },
                                {
                                    "last_name": "Philtanker",
                                    "department_id": "50"
                                },
                                {
                                    "last_name": "Perkins",
                                    "department_id": "50"
                                },
                                {
                                    "last_name": "Patel",
                                    "department_id": "50"
                                },
                                {
                                    "last_name": "Olson",
                                    "department_id": "50"
                                },
                                {
                                    "last_name": "O'Connell",
                                    "department_id": "50"
                                },
                                {
                                    "last_name": "Nayer",
                                    "department_id": "50"
                                },
                                {
                                    "last_name": "Mourgos",
                                    "department_id": "50"
                                },
                                {
                                    "last_name": "Mikkilineni",
                                    "department_id": "50"
                                },
                                {
                                    "last_name": "McCain",
                                    "department_id": "50"
                                },
                                {
                                    "last_name": "Matos",
                                    "department_id": "50"
                                },
                                {
                                    "last_name": "Marlow",
                                    "department_id": "50"
                                },
                                {
                                    "last_name": "Markle",
                                    "department_id": "50"
                                },
                                {
                                    "last_name": "Mallin",
                                    "department_id": "50"
                                },
                                {
                                    "last_name": "Landry",
                                    "department_id": "50"
                                },
                                {
                                    "last_name": "Ladwig",
                                    "department_id": "50"
                                },
                                {
                                    "last_name": "Kaufling",
                                    "department_id": "50"
                                },
                                {
                                    "last_name": "Jones",
                                    "department_id": "50"
                                },
                                {
                                    "last_name": "Hartstein",
                                    "department_id": "20"
                                },
                                {
                                    "last_name": "Grant",
                                    "department_id": "50"
                                },
                                {
                                    "last_name": "Geoni",
                                    "department_id": "50"
                                },
                                {
                                    "last_name": "Gee",
                                    "department_id": "50"
                                },
                                {
                                    "last_name": "Gates",
                                    "department_id": "50"
                                },
                                {
                                    "last_name": "Fripp",
                                    "department_id": "50"
                                },
                                {
                                    "last_name": "Fleaur",
                                    "department_id": "50"
                                },
                                {
                                    "last_name": "Feeney",
                                    "department_id": "50"
                                },
                                {
                                    "last_name": "Fay",
                                    "department_id": "20"
                                },
                                {
                                    "last_name": "Everett",
                                    "department_id": "50"
                                },
                                {
                                    "last_name": "Dilly",
                                    "department_id": "50"
                                },
                                {
                                    "last_name": "Dellinger",
                                    "department_id": "50"
                                },
                                {
                                    "last_name": "Davies",
                                    "department_id": "50"
                                },
                                {
                                    "last_name": "Chung",
                                    "department_id": "50"
                                },
                                {
                                    "last_name": "Cabrio",
                                    "department_id": "50"
                                },
                                {
                                    "last_name": "Bull",
                                    "department_id": "50"
                                },
                                {
                                    "last_name": "Bissot",
                                    "department_id": "50"
                                },
                                {
                                    "last_name": "Bell",
                                    "department_id": "50"
                                },
                                {
                                    "last_name": "Atkinson",
                                    "department_id": "50"
                                }
                            ]
                        },
                        "text/html": "<table><tr><th>last_name</th><th>department_id</th></tr><tr><td>Weiss</td><td>50</td></tr><tr><td>Walsh</td><td>50</td></tr><tr><td>Vollman</td><td>50</td></tr><tr><td>Vargas</td><td>50</td></tr><tr><td>Taylor</td><td>50</td></tr><tr><td>Sullivan</td><td>50</td></tr><tr><td>Stiles</td><td>50</td></tr><tr><td>Seo</td><td>50</td></tr><tr><td>Sarchand</td><td>50</td></tr><tr><td>Rogers</td><td>50</td></tr><tr><td>Rajs</td><td>50</td></tr><tr><td>Philtanker</td><td>50</td></tr><tr><td>Perkins</td><td>50</td></tr><tr><td>Patel</td><td>50</td></tr><tr><td>Olson</td><td>50</td></tr><tr><td>O&#39;Connell</td><td>50</td></tr><tr><td>Nayer</td><td>50</td></tr><tr><td>Mourgos</td><td>50</td></tr><tr><td>Mikkilineni</td><td>50</td></tr><tr><td>McCain</td><td>50</td></tr><tr><td>Matos</td><td>50</td></tr><tr><td>Marlow</td><td>50</td></tr><tr><td>Markle</td><td>50</td></tr><tr><td>Mallin</td><td>50</td></tr><tr><td>Landry</td><td>50</td></tr><tr><td>Ladwig</td><td>50</td></tr><tr><td>Kaufling</td><td>50</td></tr><tr><td>Jones</td><td>50</td></tr><tr><td>Hartstein</td><td>20</td></tr><tr><td>Grant</td><td>50</td></tr><tr><td>Geoni</td><td>50</td></tr><tr><td>Gee</td><td>50</td></tr><tr><td>Gates</td><td>50</td></tr><tr><td>Fripp</td><td>50</td></tr><tr><td>Fleaur</td><td>50</td></tr><tr><td>Feeney</td><td>50</td></tr><tr><td>Fay</td><td>20</td></tr><tr><td>Everett</td><td>50</td></tr><tr><td>Dilly</td><td>50</td></tr><tr><td>Dellinger</td><td>50</td></tr><tr><td>Davies</td><td>50</td></tr><tr><td>Chung</td><td>50</td></tr><tr><td>Cabrio</td><td>50</td></tr><tr><td>Bull</td><td>50</td></tr><tr><td>Bissot</td><td>50</td></tr><tr><td>Bell</td><td>50</td></tr><tr><td>Atkinson</td><td>50</td></tr></table>"
                    },
                    "metadata": {}
                }
            ],
            "execution_count": 13
        },
        {
            "cell_type": "code",
            "source": [
                "\r\n",
                "/* 6) Display the last name, salary, and department of employees who earn \r\n",
                "      between $5,000 and $10,000 and are in department 60 or 80. Label the \r\n",
                "      columns Employee and monthly_salary. */\r\n",
                "      SELECT last_name AS Employee, salary AS monthly_salary, department_id\r\n",
                "      FROM employees\r\n",
                "      WHERE salary BETWEEN 5000 AND 10000\r\n",
                "      AND \r\n",
                "--       department_id = 60 OR department_id = 80;\r\n",
                "        department_id IN (60, 80);"
            ],
            "metadata": {
                "language": "sql",
                "azdata_cell_guid": "06e31bae-f756-4414-a7ea-188c7951f394"
            },
            "outputs": [
                {
                    "output_type": "display_data",
                    "data": {
                        "text/html": "(28 row(s) affected)"
                    },
                    "metadata": {}
                },
                {
                    "output_type": "display_data",
                    "data": {
                        "text/html": "Total execution time: 00:00:01.371"
                    },
                    "metadata": {}
                },
                {
                    "output_type": "execute_result",
                    "execution_count": 16,
                    "data": {
                        "application/vnd.dataresource+json": {
                            "schema": {
                                "fields": [
                                    {
                                        "name": "Employee"
                                    },
                                    {
                                        "name": "monthly_salary"
                                    },
                                    {
                                        "name": "department_id"
                                    }
                                ]
                            },
                            "data": [
                                {
                                    "Employee": "Hunold",
                                    "monthly_salary": "9000.00",
                                    "department_id": "60"
                                },
                                {
                                    "Employee": "Ernst",
                                    "monthly_salary": "6000.00",
                                    "department_id": "60"
                                },
                                {
                                    "Employee": "Tucker",
                                    "monthly_salary": "10000.00",
                                    "department_id": "80"
                                },
                                {
                                    "Employee": "Bernstein",
                                    "monthly_salary": "9500.00",
                                    "department_id": "80"
                                },
                                {
                                    "Employee": "Hall",
                                    "monthly_salary": "9000.00",
                                    "department_id": "80"
                                },
                                {
                                    "Employee": "Olsen",
                                    "monthly_salary": "8000.00",
                                    "department_id": "80"
                                },
                                {
                                    "Employee": "Cambrault",
                                    "monthly_salary": "7500.00",
                                    "department_id": "80"
                                },
                                {
                                    "Employee": "Tuvault",
                                    "monthly_salary": "7000.00",
                                    "department_id": "80"
                                },
                                {
                                    "Employee": "King",
                                    "monthly_salary": "10000.00",
                                    "department_id": "80"
                                },
                                {
                                    "Employee": "Sully",
                                    "monthly_salary": "9500.00",
                                    "department_id": "80"
                                },
                                {
                                    "Employee": "McEwen",
                                    "monthly_salary": "9000.00",
                                    "department_id": "80"
                                },
                                {
                                    "Employee": "Smith",
                                    "monthly_salary": "8000.00",
                                    "department_id": "80"
                                },
                                {
                                    "Employee": "Doran",
                                    "monthly_salary": "7500.00",
                                    "department_id": "80"
                                },
                                {
                                    "Employee": "Sewall",
                                    "monthly_salary": "7000.00",
                                    "department_id": "80"
                                },
                                {
                                    "Employee": "Greene",
                                    "monthly_salary": "9500.00",
                                    "department_id": "80"
                                },
                                {
                                    "Employee": "Marvins",
                                    "monthly_salary": "7200.00",
                                    "department_id": "80"
                                },
                                {
                                    "Employee": "Lee",
                                    "monthly_salary": "6800.00",
                                    "department_id": "80"
                                },
                                {
                                    "Employee": "Ande",
                                    "monthly_salary": "6400.00",
                                    "department_id": "80"
                                },
                                {
                                    "Employee": "Banda",
                                    "monthly_salary": "6200.00",
                                    "department_id": "80"
                                },
                                {
                                    "Employee": "Bloom",
                                    "monthly_salary": "10000.00",
                                    "department_id": "80"
                                },
                                {
                                    "Employee": "Fox",
                                    "monthly_salary": "9600.00",
                                    "department_id": "80"
                                },
                                {
                                    "Employee": "Smith",
                                    "monthly_salary": "7400.00",
                                    "department_id": "80"
                                },
                                {
                                    "Employee": "Bates",
                                    "monthly_salary": "7300.00",
                                    "department_id": "80"
                                },
                                {
                                    "Employee": "Kumar",
                                    "monthly_salary": "6100.00",
                                    "department_id": "80"
                                },
                                {
                                    "Employee": "Hutton",
                                    "monthly_salary": "8800.00",
                                    "department_id": "80"
                                },
                                {
                                    "Employee": "Taylor",
                                    "monthly_salary": "8600.00",
                                    "department_id": "80"
                                },
                                {
                                    "Employee": "Livingston",
                                    "monthly_salary": "8400.00",
                                    "department_id": "80"
                                },
                                {
                                    "Employee": "Johnson",
                                    "monthly_salary": "6200.00",
                                    "department_id": "80"
                                }
                            ]
                        },
                        "text/html": "<table><tr><th>Employee</th><th>monthly_salary</th><th>department_id</th></tr><tr><td>Hunold</td><td>9000.00</td><td>60</td></tr><tr><td>Ernst</td><td>6000.00</td><td>60</td></tr><tr><td>Tucker</td><td>10000.00</td><td>80</td></tr><tr><td>Bernstein</td><td>9500.00</td><td>80</td></tr><tr><td>Hall</td><td>9000.00</td><td>80</td></tr><tr><td>Olsen</td><td>8000.00</td><td>80</td></tr><tr><td>Cambrault</td><td>7500.00</td><td>80</td></tr><tr><td>Tuvault</td><td>7000.00</td><td>80</td></tr><tr><td>King</td><td>10000.00</td><td>80</td></tr><tr><td>Sully</td><td>9500.00</td><td>80</td></tr><tr><td>McEwen</td><td>9000.00</td><td>80</td></tr><tr><td>Smith</td><td>8000.00</td><td>80</td></tr><tr><td>Doran</td><td>7500.00</td><td>80</td></tr><tr><td>Sewall</td><td>7000.00</td><td>80</td></tr><tr><td>Greene</td><td>9500.00</td><td>80</td></tr><tr><td>Marvins</td><td>7200.00</td><td>80</td></tr><tr><td>Lee</td><td>6800.00</td><td>80</td></tr><tr><td>Ande</td><td>6400.00</td><td>80</td></tr><tr><td>Banda</td><td>6200.00</td><td>80</td></tr><tr><td>Bloom</td><td>10000.00</td><td>80</td></tr><tr><td>Fox</td><td>9600.00</td><td>80</td></tr><tr><td>Smith</td><td>7400.00</td><td>80</td></tr><tr><td>Bates</td><td>7300.00</td><td>80</td></tr><tr><td>Kumar</td><td>6100.00</td><td>80</td></tr><tr><td>Hutton</td><td>8800.00</td><td>80</td></tr><tr><td>Taylor</td><td>8600.00</td><td>80</td></tr><tr><td>Livingston</td><td>8400.00</td><td>80</td></tr><tr><td>Johnson</td><td>6200.00</td><td>80</td></tr></table>"
                    },
                    "metadata": {}
                }
            ],
            "execution_count": 16
        },
        {
            "cell_type": "code",
            "source": [
                "\r\n",
                "-- 7) Show the last name and hire date for all emplyees hired in 2004.\r\n",
                "SELECT last_name, hire_date\r\n",
                "FROM employees\r\n",
                "-- WHERE YEAR(hire_date) = 2004;\r\n",
                "WHERE YEAR(SYSDATE()) - YEAR(hire_date) > 15;\r\n",
                "-- WHERE YEAR(SYSDATE() - hire_date) > 15;"
            ],
            "metadata": {
                "language": "sql",
                "azdata_cell_guid": "67e27366-496c-4c8b-988f-ae635ee94f59"
            },
            "outputs": [
                {
                    "output_type": "display_data",
                    "data": {
                        "text/html": "(0 row(s) affected)"
                    },
                    "metadata": {}
                },
                {
                    "output_type": "display_data",
                    "data": {
                        "text/html": "Total execution time: 00:00:01.319"
                    },
                    "metadata": {}
                },
                {
                    "output_type": "execute_result",
                    "execution_count": 19,
                    "data": {
                        "application/vnd.dataresource+json": {
                            "schema": {
                                "fields": [
                                    {
                                        "name": "last_name"
                                    },
                                    {
                                        "name": "hire_date"
                                    }
                                ]
                            },
                            "data": []
                        },
                        "text/html": "<table><tr><th>last_name</th><th>hire_date</th></tr></table>"
                    },
                    "metadata": {}
                }
            ],
            "execution_count": 19
        },
        {
            "cell_type": "code",
            "source": [
                "\r\n",
                "-- 8) Show the last name and job id of all employees who do not have a manager.\r\n",
                "SELECT last_name, job_id\r\n",
                "FROM employees\r\n",
                "WHERE manager_id IS NULL;"
            ],
            "metadata": {
                "language": "sql",
                "azdata_cell_guid": "51378ddc-8782-48be-8af0-f294088d81ce"
            },
            "outputs": [
                {
                    "output_type": "display_data",
                    "data": {
                        "text/html": "(1 row(s) affected)"
                    },
                    "metadata": {}
                },
                {
                    "output_type": "display_data",
                    "data": {
                        "text/html": "Total execution time: 00:00:01.320"
                    },
                    "metadata": {}
                },
                {
                    "output_type": "execute_result",
                    "execution_count": 20,
                    "data": {
                        "application/vnd.dataresource+json": {
                            "schema": {
                                "fields": [
                                    {
                                        "name": "last_name"
                                    },
                                    {
                                        "name": "job_id"
                                    }
                                ]
                            },
                            "data": [
                                {
                                    "last_name": "King",
                                    "job_id": "AD_PRES"
                                }
                            ]
                        },
                        "text/html": "<table><tr><th>last_name</th><th>job_id</th></tr><tr><td>King</td><td>AD_PRES</td></tr></table>"
                    },
                    "metadata": {}
                }
            ],
            "execution_count": 20
        },
        {
            "cell_type": "code",
            "source": [
                "/* 9) Display the last_name, salary, and commission of all employees who earn\r\n",
                "      a commission. Sort the result in descending order of salary and commission.\r\n",
                "      Use the columns' numeric position in the order by clause. */\r\n",
                "      SELECT last_name, salary, commission_pct \r\n",
                "      FROM employees\r\n",
                "      WHERE commission_pct IS NOT NULL \r\n",
                "      ORDER BY 2 DESC, 3 DESC;"
            ],
            "metadata": {
                "language": "sql",
                "azdata_cell_guid": "ba597ea4-5c48-4884-ae29-3eff9041a7a2"
            },
            "outputs": [
                {
                    "output_type": "display_data",
                    "data": {
                        "text/html": "(35 row(s) affected)"
                    },
                    "metadata": {}
                },
                {
                    "output_type": "display_data",
                    "data": {
                        "text/html": "Total execution time: 00:00:01.322"
                    },
                    "metadata": {}
                },
                {
                    "output_type": "execute_result",
                    "execution_count": 22,
                    "data": {
                        "application/vnd.dataresource+json": {
                            "schema": {
                                "fields": [
                                    {
                                        "name": "last_name"
                                    },
                                    {
                                        "name": "salary"
                                    },
                                    {
                                        "name": "commission_pct"
                                    }
                                ]
                            },
                            "data": [
                                {
                                    "last_name": "Russell",
                                    "salary": "14000.00",
                                    "commission_pct": "0.40"
                                },
                                {
                                    "last_name": "Partners",
                                    "salary": "13500.00",
                                    "commission_pct": "0.30"
                                },
                                {
                                    "last_name": "Errazuriz",
                                    "salary": "12000.00",
                                    "commission_pct": "0.30"
                                },
                                {
                                    "last_name": "Ozer",
                                    "salary": "11500.00",
                                    "commission_pct": "0.25"
                                },
                                {
                                    "last_name": "Cambrault",
                                    "salary": "11000.00",
                                    "commission_pct": "0.30"
                                },
                                {
                                    "last_name": "Abel",
                                    "salary": "11000.00",
                                    "commission_pct": "0.30"
                                },
                                {
                                    "last_name": "Vishney",
                                    "salary": "10500.00",
                                    "commission_pct": "0.25"
                                },
                                {
                                    "last_name": "Zlotkey",
                                    "salary": "10500.00",
                                    "commission_pct": "0.20"
                                },
                                {
                                    "last_name": "King",
                                    "salary": "10000.00",
                                    "commission_pct": "0.35"
                                },
                                {
                                    "last_name": "Tucker",
                                    "salary": "10000.00",
                                    "commission_pct": "0.30"
                                },
                                {
                                    "last_name": "Bloom",
                                    "salary": "10000.00",
                                    "commission_pct": "0.20"
                                },
                                {
                                    "last_name": "Fox",
                                    "salary": "9600.00",
                                    "commission_pct": "0.20"
                                },
                                {
                                    "last_name": "Sully",
                                    "salary": "9500.00",
                                    "commission_pct": "0.35"
                                },
                                {
                                    "last_name": "Bernstein",
                                    "salary": "9500.00",
                                    "commission_pct": "0.25"
                                },
                                {
                                    "last_name": "Greene",
                                    "salary": "9500.00",
                                    "commission_pct": "0.15"
                                },
                                {
                                    "last_name": "McEwen",
                                    "salary": "9000.00",
                                    "commission_pct": "0.35"
                                },
                                {
                                    "last_name": "Hall",
                                    "salary": "9000.00",
                                    "commission_pct": "0.25"
                                },
                                {
                                    "last_name": "Hutton",
                                    "salary": "8800.00",
                                    "commission_pct": "0.25"
                                },
                                {
                                    "last_name": "Taylor",
                                    "salary": "8600.00",
                                    "commission_pct": "0.20"
                                },
                                {
                                    "last_name": "Livingston",
                                    "salary": "8400.00",
                                    "commission_pct": "0.20"
                                },
                                {
                                    "last_name": "Smith",
                                    "salary": "8000.00",
                                    "commission_pct": "0.30"
                                },
                                {
                                    "last_name": "Olsen",
                                    "salary": "8000.00",
                                    "commission_pct": "0.20"
                                },
                                {
                                    "last_name": "Doran",
                                    "salary": "7500.00",
                                    "commission_pct": "0.30"
                                },
                                {
                                    "last_name": "Cambrault",
                                    "salary": "7500.00",
                                    "commission_pct": "0.20"
                                },
                                {
                                    "last_name": "Smith",
                                    "salary": "7400.00",
                                    "commission_pct": "0.15"
                                },
                                {
                                    "last_name": "Bates",
                                    "salary": "7300.00",
                                    "commission_pct": "0.15"
                                },
                                {
                                    "last_name": "Marvins",
                                    "salary": "7200.00",
                                    "commission_pct": "0.10"
                                },
                                {
                                    "last_name": "Sewall",
                                    "salary": "7000.00",
                                    "commission_pct": "0.25"
                                },
                                {
                                    "last_name": "Grant",
                                    "salary": "7000.00",
                                    "commission_pct": "0.15"
                                },
                                {
                                    "last_name": "Tuvault",
                                    "salary": "7000.00",
                                    "commission_pct": "0.15"
                                },
                                {
                                    "last_name": "Lee",
                                    "salary": "6800.00",
                                    "commission_pct": "0.10"
                                },
                                {
                                    "last_name": "Ande",
                                    "salary": "6400.00",
                                    "commission_pct": "0.10"
                                },
                                {
                                    "last_name": "Banda",
                                    "salary": "6200.00",
                                    "commission_pct": "0.10"
                                },
                                {
                                    "last_name": "Johnson",
                                    "salary": "6200.00",
                                    "commission_pct": "0.10"
                                },
                                {
                                    "last_name": "Kumar",
                                    "salary": "6100.00",
                                    "commission_pct": "0.10"
                                }
                            ]
                        },
                        "text/html": "<table><tr><th>last_name</th><th>salary</th><th>commission_pct</th></tr><tr><td>Russell</td><td>14000.00</td><td>0.40</td></tr><tr><td>Partners</td><td>13500.00</td><td>0.30</td></tr><tr><td>Errazuriz</td><td>12000.00</td><td>0.30</td></tr><tr><td>Ozer</td><td>11500.00</td><td>0.25</td></tr><tr><td>Cambrault</td><td>11000.00</td><td>0.30</td></tr><tr><td>Abel</td><td>11000.00</td><td>0.30</td></tr><tr><td>Vishney</td><td>10500.00</td><td>0.25</td></tr><tr><td>Zlotkey</td><td>10500.00</td><td>0.20</td></tr><tr><td>King</td><td>10000.00</td><td>0.35</td></tr><tr><td>Tucker</td><td>10000.00</td><td>0.30</td></tr><tr><td>Bloom</td><td>10000.00</td><td>0.20</td></tr><tr><td>Fox</td><td>9600.00</td><td>0.20</td></tr><tr><td>Sully</td><td>9500.00</td><td>0.35</td></tr><tr><td>Bernstein</td><td>9500.00</td><td>0.25</td></tr><tr><td>Greene</td><td>9500.00</td><td>0.15</td></tr><tr><td>McEwen</td><td>9000.00</td><td>0.35</td></tr><tr><td>Hall</td><td>9000.00</td><td>0.25</td></tr><tr><td>Hutton</td><td>8800.00</td><td>0.25</td></tr><tr><td>Taylor</td><td>8600.00</td><td>0.20</td></tr><tr><td>Livingston</td><td>8400.00</td><td>0.20</td></tr><tr><td>Smith</td><td>8000.00</td><td>0.30</td></tr><tr><td>Olsen</td><td>8000.00</td><td>0.20</td></tr><tr><td>Doran</td><td>7500.00</td><td>0.30</td></tr><tr><td>Cambrault</td><td>7500.00</td><td>0.20</td></tr><tr><td>Smith</td><td>7400.00</td><td>0.15</td></tr><tr><td>Bates</td><td>7300.00</td><td>0.15</td></tr><tr><td>Marvins</td><td>7200.00</td><td>0.10</td></tr><tr><td>Sewall</td><td>7000.00</td><td>0.25</td></tr><tr><td>Grant</td><td>7000.00</td><td>0.15</td></tr><tr><td>Tuvault</td><td>7000.00</td><td>0.15</td></tr><tr><td>Lee</td><td>6800.00</td><td>0.10</td></tr><tr><td>Ande</td><td>6400.00</td><td>0.10</td></tr><tr><td>Banda</td><td>6200.00</td><td>0.10</td></tr><tr><td>Johnson</td><td>6200.00</td><td>0.10</td></tr><tr><td>Kumar</td><td>6100.00</td><td>0.10</td></tr></table>"
                    },
                    "metadata": {}
                }
            ],
            "execution_count": 22
        },
        {
            "cell_type": "code",
            "source": [
                "/*  10) Show the last name and salary of employees who earn more than $10000. */\r\n",
                "-- SELECT last_name, salary \r\n",
                "-- FROM employees\r\n",
                "-- WHERE salary > 10000;\r\n",
                "\r\n",
                "/* Find the nth highest salary */\r\n",
                "SELECT last_name, salary \r\n",
                "FROM employees\r\n",
                "ORDER BY salary DESC\r\n",
                "LIMIT 4,1;\r\n",
                "\r\n",
                ""
            ],
            "metadata": {
                "language": "sql",
                "azdata_cell_guid": "84bf99f6-9d30-4123-95b0-ba61a223c219"
            },
            "outputs": [
                {
                    "output_type": "display_data",
                    "data": {
                        "text/html": "(1 row(s) affected)"
                    },
                    "metadata": {}
                },
                {
                    "output_type": "display_data",
                    "data": {
                        "text/html": "Total execution time: 00:00:01.308"
                    },
                    "metadata": {}
                },
                {
                    "output_type": "execute_result",
                    "execution_count": 26,
                    "data": {
                        "application/vnd.dataresource+json": {
                            "schema": {
                                "fields": [
                                    {
                                        "name": "last_name"
                                    },
                                    {
                                        "name": "salary"
                                    }
                                ]
                            },
                            "data": [
                                {
                                    "last_name": "Partners",
                                    "salary": "13500.00"
                                }
                            ]
                        },
                        "text/html": "<table><tr><th>last_name</th><th>salary</th></tr><tr><td>Partners</td><td>13500.00</td></tr></table>"
                    },
                    "metadata": {}
                }
            ],
            "execution_count": 26
        },
        {
            "cell_type": "code",
            "source": [
                "        \r\n",
                "        use ayiheyis;\r\n",
                "    \r\n",
                "/*  11) Write a query that  generates employee id, last name, salary, manager_id, and department \r\n",
                "\t\tfor the employees of manager 120. Sort the report by the first selected column. */\r\n",
                "        SELECT employee_id, last_name, salary, manager_id, department_id\r\n",
                "        FROM employees\r\n",
                "        WHERE manager_id = 120\r\n",
                "        ORDER BY 1;\r\n",
                "        \r\n",
                "        \r\n",
                "--  12) Show all last names that have \"a\" as the third letter.\r\n",
                "        SELECT last_name\r\n",
                "        FROM employees\r\n",
                "        WHERE SUBSTRING(last_name, 3, 1) = 'a';\r\n",
                "\r\n",
                "\t\t\r\n",
                "\r\n",
                "\r\n",
                "/*  13) Display all last names of employees who have both an \"a\" and an \"e\" \r\n",
                "        in their last name. */\r\n",
                "        SELECT last_name\r\n",
                "        FROM employees\r\n",
                "        WHERE last_name LIKE '%a%' AND last_name LIKE '%e%';\r\n",
                "\r\n",
                "\t\t\r\n",
                "\r\n",
                "\r\n",
                "\r\n",
                "/*  14) Show the last name, job, and salary for all employees who are either a\r\n",
                "        sales representative or stock clerk, and whose salary is not $2,500, \r\n",
                "        $3,500, or $7,000. Order the result by salary within job. */\r\n",
                "        SELECT last_name, job_id, salary\r\n",
                "        FROM employees\r\n",
                "        WHERE job_id IN ('SA_REP', 'ST_CLERK') \r\n",
                "        AND salary NOT IN (2500, 3500, 7000)\r\n",
                "        ORDER BY job_id, salary;\r\n",
                "        \r\n",
                "\t\t  \r\n",
                "\r\n",
                "        \r\n",
                "        \r\n",
                "/*  15) Show the last name, salary and commission of those employees whose \r\n",
                "        commission is 20%. */\r\n",
                "        SELECT last_name, salary, commission_pct\r\n",
                "        FROM employees\r\n",
                "        WHERE commission_pct = 0.20;\r\n",
                "\r\n",
                "\t\t\t\r\n",
                "  \r\n",
                "\r\n",
                "\r\n",
                "/* 16) In the locations table, display street address, city, state/province, postal code, and country id for \r\n",
                "\t\tany location that has a state/province value. Sort the result by country and postal code. \r\n",
                "        */\r\n",
                "        SELECT street_address, city, state_province, postal_code, country_id\r\n",
                "        FROM locations\r\n",
                "        WHERE state_province IS NOT NULL\r\n",
                "        ORDER BY country_id, postal_code;\r\n",
                "        \r\n",
                "        \r\n",
                "\t\t\t\r\n",
                "          \r\n",
                "-- 17) Show the the last name, job id, department id, and salary of the top 10 highest paid employees.   \r\n",
                "        SELECT last_name, job_id, department_id, salary\r\n",
                "        FROM employees\r\n",
                "        ORDER BY salary DESC\r\n",
                "        LIMIT 10;\r\n",
                "\r\n",
                "        \r\n",
                "        \r\n",
                "          "
            ],
            "metadata": {
                "language": "sql",
                "azdata_cell_guid": "0bc3041e-1c65-4fef-bd66-7c564fa34f36"
            },
            "outputs": [
                {
                    "output_type": "display_data",
                    "data": {
                        "text/html": "Commands completed successfully"
                    },
                    "metadata": {}
                },
                {
                    "output_type": "display_data",
                    "data": {
                        "text/html": "(8 row(s) affected)"
                    },
                    "metadata": {}
                },
                {
                    "output_type": "display_data",
                    "data": {
                        "text/html": "(3 row(s) affected)"
                    },
                    "metadata": {}
                },
                {
                    "output_type": "display_data",
                    "data": {
                        "text/html": "(20 row(s) affected)"
                    },
                    "metadata": {}
                },
                {
                    "output_type": "display_data",
                    "data": {
                        "text/html": "(43 row(s) affected)"
                    },
                    "metadata": {}
                },
                {
                    "output_type": "display_data",
                    "data": {
                        "text/html": "(7 row(s) affected)"
                    },
                    "metadata": {}
                },
                {
                    "output_type": "display_data",
                    "data": {
                        "text/html": "(17 row(s) affected)"
                    },
                    "metadata": {}
                },
                {
                    "output_type": "display_data",
                    "data": {
                        "text/html": "(10 row(s) affected)"
                    },
                    "metadata": {}
                },
                {
                    "output_type": "display_data",
                    "data": {
                        "text/html": "Total execution time: 00:00:09.221"
                    },
                    "metadata": {}
                },
                {
                    "output_type": "execute_result",
                    "metadata": {},
                    "execution_count": 8,
                    "data": {
                        "application/vnd.dataresource+json": {
                            "schema": {
                                "fields": [
                                    {
                                        "name": "employee_id"
                                    },
                                    {
                                        "name": "last_name"
                                    },
                                    {
                                        "name": "salary"
                                    },
                                    {
                                        "name": "manager_id"
                                    },
                                    {
                                        "name": "department_id"
                                    }
                                ]
                            },
                            "data": [
                                {
                                    "employee_id": "125",
                                    "last_name": "Nayer",
                                    "salary": "3200.00",
                                    "manager_id": "120",
                                    "department_id": "50"
                                },
                                {
                                    "employee_id": "126",
                                    "last_name": "Mikkilineni",
                                    "salary": "2700.00",
                                    "manager_id": "120",
                                    "department_id": "50"
                                },
                                {
                                    "employee_id": "127",
                                    "last_name": "Landry",
                                    "salary": "2400.00",
                                    "manager_id": "120",
                                    "department_id": "50"
                                },
                                {
                                    "employee_id": "128",
                                    "last_name": "Markle",
                                    "salary": "2200.00",
                                    "manager_id": "120",
                                    "department_id": "50"
                                },
                                {
                                    "employee_id": "180",
                                    "last_name": "Taylor",
                                    "salary": "3200.00",
                                    "manager_id": "120",
                                    "department_id": "50"
                                },
                                {
                                    "employee_id": "181",
                                    "last_name": "Fleaur",
                                    "salary": "3100.00",
                                    "manager_id": "120",
                                    "department_id": "50"
                                },
                                {
                                    "employee_id": "182",
                                    "last_name": "Sullivan",
                                    "salary": "2500.00",
                                    "manager_id": "120",
                                    "department_id": "50"
                                },
                                {
                                    "employee_id": "183",
                                    "last_name": "Geoni",
                                    "salary": "2800.00",
                                    "manager_id": "120",
                                    "department_id": "50"
                                }
                            ]
                        },
                        "text/html": [
                            "<table>",
                            "<tr><th>employee_id</th><th>last_name</th><th>salary</th><th>manager_id</th><th>department_id</th></tr>",
                            "<tr><td>125</td><td>Nayer</td><td>3200.00</td><td>120</td><td>50</td></tr>",
                            "<tr><td>126</td><td>Mikkilineni</td><td>2700.00</td><td>120</td><td>50</td></tr>",
                            "<tr><td>127</td><td>Landry</td><td>2400.00</td><td>120</td><td>50</td></tr>",
                            "<tr><td>128</td><td>Markle</td><td>2200.00</td><td>120</td><td>50</td></tr>",
                            "<tr><td>180</td><td>Taylor</td><td>3200.00</td><td>120</td><td>50</td></tr>",
                            "<tr><td>181</td><td>Fleaur</td><td>3100.00</td><td>120</td><td>50</td></tr>",
                            "<tr><td>182</td><td>Sullivan</td><td>2500.00</td><td>120</td><td>50</td></tr>",
                            "<tr><td>183</td><td>Geoni</td><td>2800.00</td><td>120</td><td>50</td></tr>",
                            "</table>"
                        ]
                    }
                },
                {
                    "output_type": "execute_result",
                    "metadata": {},
                    "execution_count": 8,
                    "data": {
                        "application/vnd.dataresource+json": {
                            "schema": {
                                "fields": [
                                    {
                                        "name": "last_name"
                                    }
                                ]
                            },
                            "data": [
                                {
                                    "last_name": "Grant"
                                },
                                {
                                    "last_name": "Grant"
                                },
                                {
                                    "last_name": "Whalen"
                                }
                            ]
                        },
                        "text/html": [
                            "<table>",
                            "<tr><th>last_name</th></tr>",
                            "<tr><td>Grant</td></tr>",
                            "<tr><td>Grant</td></tr>",
                            "<tr><td>Whalen</td></tr>",
                            "</table>"
                        ]
                    }
                },
                {
                    "output_type": "execute_result",
                    "metadata": {},
                    "execution_count": 8,
                    "data": {
                        "application/vnd.dataresource+json": {
                            "schema": {
                                "fields": [
                                    {
                                        "name": "last_name"
                                    }
                                ]
                            },
                            "data": [
                                {
                                    "last_name": "De Haan"
                                },
                                {
                                    "last_name": "Faviet"
                                },
                                {
                                    "last_name": "Raphaely"
                                },
                                {
                                    "last_name": "Colmenares"
                                },
                                {
                                    "last_name": "Nayer"
                                },
                                {
                                    "last_name": "Markle"
                                },
                                {
                                    "last_name": "Philtanker"
                                },
                                {
                                    "last_name": "Patel"
                                },
                                {
                                    "last_name": "Davies"
                                },
                                {
                                    "last_name": "Partners"
                                },
                                {
                                    "last_name": "Errazuriz"
                                },
                                {
                                    "last_name": "Sewall"
                                },
                                {
                                    "last_name": "Ande"
                                },
                                {
                                    "last_name": "Bates"
                                },
                                {
                                    "last_name": "Abel"
                                },
                                {
                                    "last_name": "Fleaur"
                                },
                                {
                                    "last_name": "Gates"
                                },
                                {
                                    "last_name": "Whalen"
                                },
                                {
                                    "last_name": "Hartstein"
                                },
                                {
                                    "last_name": "Baer"
                                }
                            ]
                        },
                        "text/html": [
                            "<table>",
                            "<tr><th>last_name</th></tr>",
                            "<tr><td>De Haan</td></tr>",
                            "<tr><td>Faviet</td></tr>",
                            "<tr><td>Raphaely</td></tr>",
                            "<tr><td>Colmenares</td></tr>",
                            "<tr><td>Nayer</td></tr>",
                            "<tr><td>Markle</td></tr>",
                            "<tr><td>Philtanker</td></tr>",
                            "<tr><td>Patel</td></tr>",
                            "<tr><td>Davies</td></tr>",
                            "<tr><td>Partners</td></tr>",
                            "<tr><td>Errazuriz</td></tr>",
                            "<tr><td>Sewall</td></tr>",
                            "<tr><td>Ande</td></tr>",
                            "<tr><td>Bates</td></tr>",
                            "<tr><td>Abel</td></tr>",
                            "<tr><td>Fleaur</td></tr>",
                            "<tr><td>Gates</td></tr>",
                            "<tr><td>Whalen</td></tr>",
                            "<tr><td>Hartstein</td></tr>",
                            "<tr><td>Baer</td></tr>",
                            "</table>"
                        ]
                    }
                },
                {
                    "output_type": "execute_result",
                    "metadata": {},
                    "execution_count": 8,
                    "data": {
                        "application/vnd.dataresource+json": {
                            "schema": {
                                "fields": [
                                    {
                                        "name": "last_name"
                                    },
                                    {
                                        "name": "job_id"
                                    },
                                    {
                                        "name": "salary"
                                    }
                                ]
                            },
                            "data": [
                                {
                                    "last_name": "Kumar",
                                    "job_id": "SA_REP",
                                    "salary": "6100.00"
                                },
                                {
                                    "last_name": "Johnson",
                                    "job_id": "SA_REP",
                                    "salary": "6200.00"
                                },
                                {
                                    "last_name": "Banda",
                                    "job_id": "SA_REP",
                                    "salary": "6200.00"
                                },
                                {
                                    "last_name": "Ande",
                                    "job_id": "SA_REP",
                                    "salary": "6400.00"
                                },
                                {
                                    "last_name": "Lee",
                                    "job_id": "SA_REP",
                                    "salary": "6800.00"
                                },
                                {
                                    "last_name": "Marvins",
                                    "job_id": "SA_REP",
                                    "salary": "7200.00"
                                },
                                {
                                    "last_name": "Bates",
                                    "job_id": "SA_REP",
                                    "salary": "7300.00"
                                },
                                {
                                    "last_name": "Smith",
                                    "job_id": "SA_REP",
                                    "salary": "7400.00"
                                },
                                {
                                    "last_name": "Cambrault",
                                    "job_id": "SA_REP",
                                    "salary": "7500.00"
                                },
                                {
                                    "last_name": "Doran",
                                    "job_id": "SA_REP",
                                    "salary": "7500.00"
                                },
                                {
                                    "last_name": "Olsen",
                                    "job_id": "SA_REP",
                                    "salary": "8000.00"
                                },
                                {
                                    "last_name": "Smith",
                                    "job_id": "SA_REP",
                                    "salary": "8000.00"
                                },
                                {
                                    "last_name": "Livingston",
                                    "job_id": "SA_REP",
                                    "salary": "8400.00"
                                },
                                {
                                    "last_name": "Taylor",
                                    "job_id": "SA_REP",
                                    "salary": "8600.00"
                                },
                                {
                                    "last_name": "Hutton",
                                    "job_id": "SA_REP",
                                    "salary": "8800.00"
                                },
                                {
                                    "last_name": "Hall",
                                    "job_id": "SA_REP",
                                    "salary": "9000.00"
                                },
                                {
                                    "last_name": "McEwen",
                                    "job_id": "SA_REP",
                                    "salary": "9000.00"
                                },
                                {
                                    "last_name": "Greene",
                                    "job_id": "SA_REP",
                                    "salary": "9500.00"
                                },
                                {
                                    "last_name": "Bernstein",
                                    "job_id": "SA_REP",
                                    "salary": "9500.00"
                                },
                                {
                                    "last_name": "Sully",
                                    "job_id": "SA_REP",
                                    "salary": "9500.00"
                                },
                                {
                                    "last_name": "Fox",
                                    "job_id": "SA_REP",
                                    "salary": "9600.00"
                                },
                                {
                                    "last_name": "King",
                                    "job_id": "SA_REP",
                                    "salary": "10000.00"
                                },
                                {
                                    "last_name": "Bloom",
                                    "job_id": "SA_REP",
                                    "salary": "10000.00"
                                },
                                {
                                    "last_name": "Tucker",
                                    "job_id": "SA_REP",
                                    "salary": "10000.00"
                                },
                                {
                                    "last_name": "Vishney",
                                    "job_id": "SA_REP",
                                    "salary": "10500.00"
                                },
                                {
                                    "last_name": "Abel",
                                    "job_id": "SA_REP",
                                    "salary": "11000.00"
                                },
                                {
                                    "last_name": "Ozer",
                                    "job_id": "SA_REP",
                                    "salary": "11500.00"
                                },
                                {
                                    "last_name": "Olson",
                                    "job_id": "ST_CLERK",
                                    "salary": "2100.00"
                                },
                                {
                                    "last_name": "Markle",
                                    "job_id": "ST_CLERK",
                                    "salary": "2200.00"
                                },
                                {
                                    "last_name": "Philtanker",
                                    "job_id": "ST_CLERK",
                                    "salary": "2200.00"
                                },
                                {
                                    "last_name": "Gee",
                                    "job_id": "ST_CLERK",
                                    "salary": "2400.00"
                                },
                                {
                                    "last_name": "Landry",
                                    "job_id": "ST_CLERK",
                                    "salary": "2400.00"
                                },
                                {
                                    "last_name": "Matos",
                                    "job_id": "ST_CLERK",
                                    "salary": "2600.00"
                                },
                                {
                                    "last_name": "Seo",
                                    "job_id": "ST_CLERK",
                                    "salary": "2700.00"
                                },
                                {
                                    "last_name": "Mikkilineni",
                                    "job_id": "ST_CLERK",
                                    "salary": "2700.00"
                                },
                                {
                                    "last_name": "Atkinson",
                                    "job_id": "ST_CLERK",
                                    "salary": "2800.00"
                                },
                                {
                                    "last_name": "Rogers",
                                    "job_id": "ST_CLERK",
                                    "salary": "2900.00"
                                },
                                {
                                    "last_name": "Davies",
                                    "job_id": "ST_CLERK",
                                    "salary": "3100.00"
                                },
                                {
                                    "last_name": "Nayer",
                                    "job_id": "ST_CLERK",
                                    "salary": "3200.00"
                                },
                                {
                                    "last_name": "Stiles",
                                    "job_id": "ST_CLERK",
                                    "salary": "3200.00"
                                },
                                {
                                    "last_name": "Mallin",
                                    "job_id": "ST_CLERK",
                                    "salary": "3300.00"
                                },
                                {
                                    "last_name": "Bissot",
                                    "job_id": "ST_CLERK",
                                    "salary": "3300.00"
                                },
                                {
                                    "last_name": "Ladwig",
                                    "job_id": "ST_CLERK",
                                    "salary": "3600.00"
                                }
                            ]
                        },
                        "text/html": [
                            "<table>",
                            "<tr><th>last_name</th><th>job_id</th><th>salary</th></tr>",
                            "<tr><td>Kumar</td><td>SA_REP</td><td>6100.00</td></tr>",
                            "<tr><td>Johnson</td><td>SA_REP</td><td>6200.00</td></tr>",
                            "<tr><td>Banda</td><td>SA_REP</td><td>6200.00</td></tr>",
                            "<tr><td>Ande</td><td>SA_REP</td><td>6400.00</td></tr>",
                            "<tr><td>Lee</td><td>SA_REP</td><td>6800.00</td></tr>",
                            "<tr><td>Marvins</td><td>SA_REP</td><td>7200.00</td></tr>",
                            "<tr><td>Bates</td><td>SA_REP</td><td>7300.00</td></tr>",
                            "<tr><td>Smith</td><td>SA_REP</td><td>7400.00</td></tr>",
                            "<tr><td>Cambrault</td><td>SA_REP</td><td>7500.00</td></tr>",
                            "<tr><td>Doran</td><td>SA_REP</td><td>7500.00</td></tr>",
                            "<tr><td>Olsen</td><td>SA_REP</td><td>8000.00</td></tr>",
                            "<tr><td>Smith</td><td>SA_REP</td><td>8000.00</td></tr>",
                            "<tr><td>Livingston</td><td>SA_REP</td><td>8400.00</td></tr>",
                            "<tr><td>Taylor</td><td>SA_REP</td><td>8600.00</td></tr>",
                            "<tr><td>Hutton</td><td>SA_REP</td><td>8800.00</td></tr>",
                            "<tr><td>Hall</td><td>SA_REP</td><td>9000.00</td></tr>",
                            "<tr><td>McEwen</td><td>SA_REP</td><td>9000.00</td></tr>",
                            "<tr><td>Greene</td><td>SA_REP</td><td>9500.00</td></tr>",
                            "<tr><td>Bernstein</td><td>SA_REP</td><td>9500.00</td></tr>",
                            "<tr><td>Sully</td><td>SA_REP</td><td>9500.00</td></tr>",
                            "<tr><td>Fox</td><td>SA_REP</td><td>9600.00</td></tr>",
                            "<tr><td>King</td><td>SA_REP</td><td>10000.00</td></tr>",
                            "<tr><td>Bloom</td><td>SA_REP</td><td>10000.00</td></tr>",
                            "<tr><td>Tucker</td><td>SA_REP</td><td>10000.00</td></tr>",
                            "<tr><td>Vishney</td><td>SA_REP</td><td>10500.00</td></tr>",
                            "<tr><td>Abel</td><td>SA_REP</td><td>11000.00</td></tr>",
                            "<tr><td>Ozer</td><td>SA_REP</td><td>11500.00</td></tr>",
                            "<tr><td>Olson</td><td>ST_CLERK</td><td>2100.00</td></tr>",
                            "<tr><td>Markle</td><td>ST_CLERK</td><td>2200.00</td></tr>",
                            "<tr><td>Philtanker</td><td>ST_CLERK</td><td>2200.00</td></tr>",
                            "<tr><td>Gee</td><td>ST_CLERK</td><td>2400.00</td></tr>",
                            "<tr><td>Landry</td><td>ST_CLERK</td><td>2400.00</td></tr>",
                            "<tr><td>Matos</td><td>ST_CLERK</td><td>2600.00</td></tr>",
                            "<tr><td>Seo</td><td>ST_CLERK</td><td>2700.00</td></tr>",
                            "<tr><td>Mikkilineni</td><td>ST_CLERK</td><td>2700.00</td></tr>",
                            "<tr><td>Atkinson</td><td>ST_CLERK</td><td>2800.00</td></tr>",
                            "<tr><td>Rogers</td><td>ST_CLERK</td><td>2900.00</td></tr>",
                            "<tr><td>Davies</td><td>ST_CLERK</td><td>3100.00</td></tr>",
                            "<tr><td>Nayer</td><td>ST_CLERK</td><td>3200.00</td></tr>",
                            "<tr><td>Stiles</td><td>ST_CLERK</td><td>3200.00</td></tr>",
                            "<tr><td>Mallin</td><td>ST_CLERK</td><td>3300.00</td></tr>",
                            "<tr><td>Bissot</td><td>ST_CLERK</td><td>3300.00</td></tr>",
                            "<tr><td>Ladwig</td><td>ST_CLERK</td><td>3600.00</td></tr>",
                            "</table>"
                        ]
                    }
                },
                {
                    "output_type": "execute_result",
                    "metadata": {},
                    "execution_count": 8,
                    "data": {
                        "application/vnd.dataresource+json": {
                            "schema": {
                                "fields": [
                                    {
                                        "name": "last_name"
                                    },
                                    {
                                        "name": "salary"
                                    },
                                    {
                                        "name": "commission_pct"
                                    }
                                ]
                            },
                            "data": [
                                {
                                    "last_name": "Zlotkey",
                                    "salary": "10500.00",
                                    "commission_pct": "0.20"
                                },
                                {
                                    "last_name": "Olsen",
                                    "salary": "8000.00",
                                    "commission_pct": "0.20"
                                },
                                {
                                    "last_name": "Cambrault",
                                    "salary": "7500.00",
                                    "commission_pct": "0.20"
                                },
                                {
                                    "last_name": "Bloom",
                                    "salary": "10000.00",
                                    "commission_pct": "0.20"
                                },
                                {
                                    "last_name": "Fox",
                                    "salary": "9600.00",
                                    "commission_pct": "0.20"
                                },
                                {
                                    "last_name": "Taylor",
                                    "salary": "8600.00",
                                    "commission_pct": "0.20"
                                },
                                {
                                    "last_name": "Livingston",
                                    "salary": "8400.00",
                                    "commission_pct": "0.20"
                                }
                            ]
                        },
                        "text/html": [
                            "<table>",
                            "<tr><th>last_name</th><th>salary</th><th>commission_pct</th></tr>",
                            "<tr><td>Zlotkey</td><td>10500.00</td><td>0.20</td></tr>",
                            "<tr><td>Olsen</td><td>8000.00</td><td>0.20</td></tr>",
                            "<tr><td>Cambrault</td><td>7500.00</td><td>0.20</td></tr>",
                            "<tr><td>Bloom</td><td>10000.00</td><td>0.20</td></tr>",
                            "<tr><td>Fox</td><td>9600.00</td><td>0.20</td></tr>",
                            "<tr><td>Taylor</td><td>8600.00</td><td>0.20</td></tr>",
                            "<tr><td>Livingston</td><td>8400.00</td><td>0.20</td></tr>",
                            "</table>"
                        ]
                    }
                },
                {
                    "output_type": "execute_result",
                    "metadata": {},
                    "execution_count": 8,
                    "data": {
                        "application/vnd.dataresource+json": {
                            "schema": {
                                "fields": [
                                    {
                                        "name": "street_address"
                                    },
                                    {
                                        "name": "city"
                                    },
                                    {
                                        "name": "state_province"
                                    },
                                    {
                                        "name": "postal_code"
                                    },
                                    {
                                        "name": "country_id"
                                    }
                                ]
                            },
                            "data": [
                                {
                                    "street_address": "12-98 Victoria Street",
                                    "city": "Sydney",
                                    "state_province": "New South Wales",
                                    "postal_code": "2901",
                                    "country_id": "AU"
                                },
                                {
                                    "street_address": "Rua Frei Caneca 1360 ",
                                    "city": "Sao Paulo",
                                    "state_province": "Sao Paulo",
                                    "postal_code": "01307-002",
                                    "country_id": "BR"
                                },
                                {
                                    "street_address": "147 Spadina Ave",
                                    "city": "Toronto",
                                    "state_province": "Ontario",
                                    "postal_code": "M5V 2L7",
                                    "country_id": "CA"
                                },
                                {
                                    "street_address": "6092 Boxwood St",
                                    "city": "Whitehorse",
                                    "state_province": "Yukon",
                                    "postal_code": "YSW 9T2",
                                    "country_id": "CA"
                                },
                                {
                                    "street_address": "20 Rue des Corps-Saints",
                                    "city": "Geneva",
                                    "state_province": "Geneve",
                                    "postal_code": "1730",
                                    "country_id": "CH"
                                },
                                {
                                    "street_address": "Murtenstrasse 921",
                                    "city": "Bern",
                                    "state_province": "BE",
                                    "postal_code": "3095",
                                    "country_id": "CH"
                                },
                                {
                                    "street_address": "Schwanthalerstr. 7031",
                                    "city": "Munich",
                                    "state_province": "Bavaria",
                                    "postal_code": "80925",
                                    "country_id": "DE"
                                },
                                {
                                    "street_address": "1298 Vileparle (E)",
                                    "city": "Bombay",
                                    "state_province": "Maharashtra",
                                    "postal_code": "490231",
                                    "country_id": "IN"
                                },
                                {
                                    "street_address": "2017 Shinjuku-ku",
                                    "city": "Tokyo",
                                    "state_province": "Tokyo Prefecture",
                                    "postal_code": "1689",
                                    "country_id": "JP"
                                },
                                {
                                    "street_address": "Mariano Escobedo 9991",
                                    "city": "Mexico City",
                                    "state_province": "Distrito Federal",
                                    "postal_code": "11932",
                                    "country_id": "MX"
                                },
                                {
                                    "street_address": "Pieter Breughelstraat 837",
                                    "city": "Utrecht",
                                    "state_province": "Utrecht",
                                    "postal_code": "3029SK",
                                    "country_id": "NL"
                                },
                                {
                                    "street_address": "9702 Chester Road",
                                    "city": "Stretford",
                                    "state_province": "Manchester",
                                    "postal_code": "09629850293",
                                    "country_id": "UK"
                                },
                                {
                                    "street_address": "Magdalen Centre, The Oxford Science Park",
                                    "city": "Oxford",
                                    "state_province": "Oxford",
                                    "postal_code": "OX9 9ZB",
                                    "country_id": "UK"
                                },
                                {
                                    "street_address": "2014 Jabberwocky Rd",
                                    "city": "Southlake",
                                    "state_province": "Texas",
                                    "postal_code": "26192",
                                    "country_id": "US"
                                },
                                {
                                    "street_address": "2007 Zagora St",
                                    "city": "South Brunswick",
                                    "state_province": "New Jersey",
                                    "postal_code": "50090",
                                    "country_id": "US"
                                },
                                {
                                    "street_address": "2004 Charade Rd",
                                    "city": "Seattle",
                                    "state_province": "Washington",
                                    "postal_code": "98199",
                                    "country_id": "US"
                                },
                                {
                                    "street_address": "2011 Interiors Blvd",
                                    "city": "South San Francisco",
                                    "state_province": "California",
                                    "postal_code": "99236",
                                    "country_id": "US"
                                }
                            ]
                        },
                        "text/html": [
                            "<table>",
                            "<tr><th>street_address</th><th>city</th><th>state_province</th><th>postal_code</th><th>country_id</th></tr>",
                            "<tr><td>12-98 Victoria Street</td><td>Sydney</td><td>New South Wales</td><td>2901</td><td>AU</td></tr>",
                            "<tr><td>Rua Frei Caneca 1360 </td><td>Sao Paulo</td><td>Sao Paulo</td><td>01307-002</td><td>BR</td></tr>",
                            "<tr><td>147 Spadina Ave</td><td>Toronto</td><td>Ontario</td><td>M5V 2L7</td><td>CA</td></tr>",
                            "<tr><td>6092 Boxwood St</td><td>Whitehorse</td><td>Yukon</td><td>YSW 9T2</td><td>CA</td></tr>",
                            "<tr><td>20 Rue des Corps-Saints</td><td>Geneva</td><td>Geneve</td><td>1730</td><td>CH</td></tr>",
                            "<tr><td>Murtenstrasse 921</td><td>Bern</td><td>BE</td><td>3095</td><td>CH</td></tr>",
                            "<tr><td>Schwanthalerstr. 7031</td><td>Munich</td><td>Bavaria</td><td>80925</td><td>DE</td></tr>",
                            "<tr><td>1298 Vileparle (E)</td><td>Bombay</td><td>Maharashtra</td><td>490231</td><td>IN</td></tr>",
                            "<tr><td>2017 Shinjuku-ku</td><td>Tokyo</td><td>Tokyo Prefecture</td><td>1689</td><td>JP</td></tr>",
                            "<tr><td>Mariano Escobedo 9991</td><td>Mexico City</td><td>Distrito Federal</td><td>11932</td><td>MX</td></tr>",
                            "<tr><td>Pieter Breughelstraat 837</td><td>Utrecht</td><td>Utrecht</td><td>3029SK</td><td>NL</td></tr>",
                            "<tr><td>9702 Chester Road</td><td>Stretford</td><td>Manchester</td><td>09629850293</td><td>UK</td></tr>",
                            "<tr><td>Magdalen Centre, The Oxford Science Park</td><td>Oxford</td><td>Oxford</td><td>OX9 9ZB</td><td>UK</td></tr>",
                            "<tr><td>2014 Jabberwocky Rd</td><td>Southlake</td><td>Texas</td><td>26192</td><td>US</td></tr>",
                            "<tr><td>2007 Zagora St</td><td>South Brunswick</td><td>New Jersey</td><td>50090</td><td>US</td></tr>",
                            "<tr><td>2004 Charade Rd</td><td>Seattle</td><td>Washington</td><td>98199</td><td>US</td></tr>",
                            "<tr><td>2011 Interiors Blvd</td><td>South San Francisco</td><td>California</td><td>99236</td><td>US</td></tr>",
                            "</table>"
                        ]
                    }
                },
                {
                    "output_type": "execute_result",
                    "metadata": {},
                    "execution_count": 8,
                    "data": {
                        "application/vnd.dataresource+json": {
                            "schema": {
                                "fields": [
                                    {
                                        "name": "last_name"
                                    },
                                    {
                                        "name": "job_id"
                                    },
                                    {
                                        "name": "department_id"
                                    },
                                    {
                                        "name": "salary"
                                    }
                                ]
                            },
                            "data": [
                                {
                                    "last_name": "King",
                                    "job_id": "AD_PRES",
                                    "department_id": "90",
                                    "salary": "24000.00"
                                },
                                {
                                    "last_name": "Kochhar",
                                    "job_id": "AD_VP",
                                    "department_id": "90",
                                    "salary": "17000.00"
                                },
                                {
                                    "last_name": "De Haan",
                                    "job_id": "AD_VP",
                                    "department_id": "90",
                                    "salary": "17000.00"
                                },
                                {
                                    "last_name": "Russell",
                                    "job_id": "SA_MAN",
                                    "department_id": "80",
                                    "salary": "14000.00"
                                },
                                {
                                    "last_name": "Partners",
                                    "job_id": "SA_MAN",
                                    "department_id": "80",
                                    "salary": "13500.00"
                                },
                                {
                                    "last_name": "Hartstein",
                                    "job_id": "MK_MAN",
                                    "department_id": "20",
                                    "salary": "13000.00"
                                },
                                {
                                    "last_name": "Higgins",
                                    "job_id": "AC_MGR",
                                    "department_id": "110",
                                    "salary": "12000.00"
                                },
                                {
                                    "last_name": "Greenberg",
                                    "job_id": "FI_MGR",
                                    "department_id": "100",
                                    "salary": "12000.00"
                                },
                                {
                                    "last_name": "Errazuriz",
                                    "job_id": "SA_MAN",
                                    "department_id": "80",
                                    "salary": "12000.00"
                                },
                                {
                                    "last_name": "Ozer",
                                    "job_id": "SA_REP",
                                    "department_id": "80",
                                    "salary": "11500.00"
                                }
                            ]
                        },
                        "text/html": [
                            "<table>",
                            "<tr><th>last_name</th><th>job_id</th><th>department_id</th><th>salary</th></tr>",
                            "<tr><td>King</td><td>AD_PRES</td><td>90</td><td>24000.00</td></tr>",
                            "<tr><td>Kochhar</td><td>AD_VP</td><td>90</td><td>17000.00</td></tr>",
                            "<tr><td>De Haan</td><td>AD_VP</td><td>90</td><td>17000.00</td></tr>",
                            "<tr><td>Russell</td><td>SA_MAN</td><td>80</td><td>14000.00</td></tr>",
                            "<tr><td>Partners</td><td>SA_MAN</td><td>80</td><td>13500.00</td></tr>",
                            "<tr><td>Hartstein</td><td>MK_MAN</td><td>20</td><td>13000.00</td></tr>",
                            "<tr><td>Higgins</td><td>AC_MGR</td><td>110</td><td>12000.00</td></tr>",
                            "<tr><td>Greenberg</td><td>FI_MGR</td><td>100</td><td>12000.00</td></tr>",
                            "<tr><td>Errazuriz</td><td>SA_MAN</td><td>80</td><td>12000.00</td></tr>",
                            "<tr><td>Ozer</td><td>SA_REP</td><td>80</td><td>11500.00</td></tr>",
                            "</table>"
                        ]
                    }
                }
            ],
            "execution_count": 8
        }
    ]
}