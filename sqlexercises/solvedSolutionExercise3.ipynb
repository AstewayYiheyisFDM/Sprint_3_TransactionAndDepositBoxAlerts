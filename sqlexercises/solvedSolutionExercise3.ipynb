/*Look through Lesson 9b Displaying Data From Multiple Tables with Joins.sql and 
  run the code examples there, then practice Joins with the excercises below:
*/
-- Practice Joining Tables

/* 1) Produce a query that shows addresses of all the departments. Show
      department name, location id, street address, city, and state / province. 
      Use NATURAL JOIN to produce your output.*/
      select department_name, location_id,
      street_address, city, state_province
      from departments natural join locations;

/* 2) Produce a report showing employees who work in Toronto. Display first and 
      last name, job, department number, department name, and city. 
      Produce your results with JOIN USING.*/
     SELECT first_name, last_name, job_id, department_id, department_name, city
     from employees join departments using(department_id) join locations using(location_id)
     where city = "Toronto";


/* 3) Display employee number, last name, manager number, and last name.
      Label the columns Emp#, Employee, Mgr#, Manager. Show all employees, even
      if they have no manager. Sort the result by employee id. */
      select e.employee_id, e.last_name, e.manager_id, m.last_name
      from employees e 
      left outer join employees m
      on e.manager_id = m.employee_id;

/* 4) For every department name, show the name of the country where the department
      is located. Show all countries even if the have no departments. */ 
      -- select country_name, department_name
      -- from countries join locations 
      -- on countries.country_id = locations.country_id
      -- left join departments
      -- on departments.location_id = locations.location_Id; 

      select department_name, country_name
      from departments join locations using(location_id)
      right join countries using(country_id);
      
/* 5) Create a report showing employee first and last name, department number, 
      and first and last names of their department colleagues. Do not display 
      the same employee twice in any row. Label the columns appropriately to 
      clarify the results. Order the results by employee id, even
      though it is not displayed.*/
      select e.first_name, e.last_name, e.department_id, c.first_name, c.last_name
      from employees e join employees c on e.department_id = c.department_id
      and e.employee_id != c.employee_id
      order by e.employee_id;

      
      
/* 6) Display last name, job id, department name, salary, and salary grade level
      for all employees, even if the employee is not assigned to a department.
      Order the result by department name, job, and last name.*/ 
      select last_name, job_id, department_name, salary, grade_level
      from employees e left join departments d on e.department_id = d.department_id
      join sal_grades s on e.salary between s.lowest_sal and s.highest_sal
      order by 3, 2, 1;
      
        
/* 7) Write a query that displays employees who have had different jobs. Show
      employee number, first and last name, previous job id, previous 
      job start date and end date. Use appropriate column aliases to clarify 
      the results. Order the result by employee id and end date. */
      select e.employee_id, e.first_name, e.last_name, j.job_id, j.start_date, j.end_date
      from employees e
      join job_history j on e.employee_id = j.employee_id
      order by e.employee_id, j.end_date;
  
      
/* 8) Find the first and last names and hire dates of all employees who were 
      hired before their bosses. Also display the boss's last name 
      and hire date. Be sure to use appropriate column aliases where needed. */
      select e.first_name, e.last_name, e.hire_date, m.last_name as manager_last_name, 
      m.hire_date as manager_hire_date 
      from employees e 
      join employees m on e.manager_id = m.employee_id 
      where e.hire_date < m.hire_date;
      
    
        
  
/* 9) For every country name, show how many departments are located in that country.
       Use a column alias to clarify the meaning of the numbers.*/
      select c.country_name, count(d.department_id) as department_count 
      from countries c 
      join locations l using (country_id) 
      join departments d using (location_id) 
      group by c.country_name; 

         
--------- CUSTOMERS and SALES Tables ----------------------

/* 10)	For every sale, show the id, first and last names, email, and phone of the customer, 
		the first and last names of the sales representative, and the sales amount. 
		Order the result by customer id and sales amount.*/
      select s.sales_id, c.cust_fname, c.cust_lname, c.cust_email, c.cust_phone, 
      r.first_name as rep_first_name, r.last_name as rep_last_name, s.sales_amt 
      from sales s 
      join customers c on s.sales_cust_id = c.cust_id 
      join employees r on s.sales_rep_id = r.employee_id 
      order by c.cust_id, s.sales_amt;
   
    
    
    